{
 "cells": [
  {
   "cell_type": "code",
   "execution_count": 2,
   "metadata": {},
   "outputs": [],
   "source": [
    "from langchain.llms import OpenAI\n",
    "from langchain.chat_models import ChatOpenAI\n",
    "from langchain.prompts import PromptTemplate\n",
    "from langchain.chains import LLMChain\n",
    "from langchain.chains import SequentialChain\n",
    "\n",
    "\n",
    "import os\n",
    "import json\n",
    "import traceback\n",
    "import pandas as pd\n",
    "from dotenv import load_dotenv\n",
    "import PyPDF2"
   ]
  },
  {
   "cell_type": "code",
   "execution_count": 3,
   "metadata": {},
   "outputs": [
    {
     "data": {
      "text/plain": [
       "True"
      ]
     },
     "execution_count": 3,
     "metadata": {},
     "output_type": "execute_result"
    }
   ],
   "source": [
    "load_dotenv()"
   ]
  },
  {
   "cell_type": "code",
   "execution_count": 4,
   "metadata": {},
   "outputs": [],
   "source": [
    "key=os.getenv(\"OPENAI_API_KEY\")"
   ]
  },
  {
   "cell_type": "code",
   "execution_count": 5,
   "metadata": {},
   "outputs": [
    {
     "name": "stdout",
     "output_type": "stream",
     "text": [
      "sk-proj-EWD9l0HpGqd1WWyFFB57T3BlbkFJTNSXqfmP8Atdxf9eR2HX\n"
     ]
    }
   ],
   "source": [
    "print(key)"
   ]
  },
  {
   "cell_type": "code",
   "execution_count": 7,
   "metadata": {},
   "outputs": [
    {
     "name": "stderr",
     "output_type": "stream",
     "text": [
      "c:\\Users\\misja\\OneDrive\\Desktop\\JAHNAVI\\GenAI\\MCQ_GenAI_Project\\MCQ-Generator-LLM\\env\\lib\\site-packages\\langchain_core\\_api\\deprecation.py:141: LangChainDeprecationWarning: The class `ChatOpenAI` was deprecated in LangChain 0.0.10 and will be removed in 0.3.0. An updated version of the class exists in the langchain-openai package and should be used instead. To use it run `pip install -U langchain-openai` and import as `from langchain_openai import ChatOpenAI`.\n",
      "  warn_deprecated(\n"
     ]
    }
   ],
   "source": [
    "llm=ChatOpenAI(openai_api_key=key,model_name=\"gpt-3.5-turbo\", temperature=0.5)"
   ]
  },
  {
   "cell_type": "code",
   "execution_count": 8,
   "metadata": {},
   "outputs": [
    {
     "data": {
      "text/plain": [
       "ChatOpenAI(client=<openai.resources.chat.completions.Completions object at 0x000001C73A76EF10>, async_client=<openai.resources.chat.completions.AsyncCompletions object at 0x000001C73A781100>, temperature=0.5, openai_api_key='sk-proj-EWD9l0HpGqd1WWyFFB57T3BlbkFJTNSXqfmP8Atdxf9eR2HX', openai_proxy='')"
      ]
     },
     "execution_count": 8,
     "metadata": {},
     "output_type": "execute_result"
    }
   ],
   "source": [
    "llm"
   ]
  },
  {
   "cell_type": "code",
   "execution_count": 9,
   "metadata": {},
   "outputs": [],
   "source": [
    "with open(r\"C:\\Users\\misja\\OneDrive\\Desktop\\JAHNAVI\\GenAI\\MCQ_GenAI_Project\\MCQ-Generator-LLM\\Response.json\",\"r\") as f:\n",
    "    RESPONSE_JSON= json.load(f)"
   ]
  },
  {
   "cell_type": "code",
   "execution_count": 10,
   "metadata": {},
   "outputs": [
    {
     "name": "stdout",
     "output_type": "stream",
     "text": [
      "{'1': {'mcq': 'multiple choice question', 'options': {'a': 'choice here', 'b': 'choice here', 'c': 'choice here', 'd': 'choice here'}, 'correct': 'correct answer'}, '2': {'mcq': 'multiple choice question', 'options': {'a': 'choice here', 'b': 'choice here', 'c': 'choice here', 'd': 'choice here'}, 'correct': 'correct answer'}, '3': {'mcq': 'multiple choice question', 'options': {'a': 'choice here', 'b': 'choice here', 'c': 'choice here', 'd': 'choice here'}, 'correct': 'correct answer'}}\n"
     ]
    }
   ],
   "source": [
    "print(RESPONSE_JSON)"
   ]
  },
  {
   "cell_type": "code",
   "execution_count": 30,
   "metadata": {},
   "outputs": [],
   "source": [
    "TEMPLATE=\"\"\"\n",
    "Text:{text}\n",
    "You are an expert MCQ maker. Given the above text, it is your job to \\\n",
    "create a quiz  of {number} multiple choice questions for {subject} students in {tone} tone. \n",
    "Make sure the questions are not repeated and check all the questions to be conforming the text as well.\n",
    "Make sure to format your response like  RESPONSE_JSON below  and use it as a guide. \\\n",
    "Ensure to make {number} MCQs\n",
    "\n",
    "{RESPONSE_JSON}\n",
    "\n",
    "\"\"\""
   ]
  },
  {
   "cell_type": "code",
   "execution_count": 31,
   "metadata": {},
   "outputs": [],
   "source": [
    "quiz_generation_prompt = PromptTemplate(\n",
    "    input_variables=[\"text\", \"number\", \"subject\", \"tone\", \"RESPONSE_JSON\"],\n",
    "    template=TEMPLATE\n",
    "    )"
   ]
  },
  {
   "cell_type": "code",
   "execution_count": 32,
   "metadata": {},
   "outputs": [
    {
     "data": {
      "text/plain": [
       "PromptTemplate(input_variables=['RESPONSE_JSON', 'number', 'subject', 'text', 'tone'], template='\\nText:{text}\\nYou are an expert MCQ maker. Given the above text, it is your job to create a quiz  of {number} multiple choice questions for {subject} students in {tone} tone. \\nMake sure the questions are not repeated and check all the questions to be conforming the text as well.\\nMake sure to format your response like  RESPONSE_JSON below  and use it as a guide. Ensure to make {number} MCQs\\n\\n{RESPONSE_JSON}\\n\\n')"
      ]
     },
     "execution_count": 32,
     "metadata": {},
     "output_type": "execute_result"
    }
   ],
   "source": [
    "quiz_generation_prompt"
   ]
  },
  {
   "cell_type": "code",
   "execution_count": 33,
   "metadata": {},
   "outputs": [],
   "source": [
    "quiz_chain=LLMChain(llm=llm, prompt=quiz_generation_prompt, output_key=\"quiz\", verbose=True)"
   ]
  },
  {
   "cell_type": "code",
   "execution_count": 15,
   "metadata": {},
   "outputs": [],
   "source": [
    "TEMPLATE2=\"\"\"\n",
    "You are an expert english grammarian and writer. Given a Multiple Choice Quiz for {subject} students.\\\n",
    "You need to evaluate the complexity of the question and give a complete analysis of the quiz. Only use at max 50 words for complexity analysis. \n",
    "if the quiz is not at per with the cognitive and analytical abilities of the students,\\\n",
    "update the quiz questions which needs to be changed and change the tone such that it perfectly fits the student abilities\n",
    "Quiz_MCQs:\n",
    "{quiz}\n",
    "\n",
    "Check from an expert English Writer of the above quiz:\n",
    "\"\"\""
   ]
  },
  {
   "cell_type": "code",
   "execution_count": 16,
   "metadata": {},
   "outputs": [],
   "source": [
    "quiz_evaluation_prompt=PromptTemplate(input_variables=[\"subject\", \"quiz\"], template=TEMPLATE)"
   ]
  },
  {
   "cell_type": "code",
   "execution_count": 17,
   "metadata": {},
   "outputs": [],
   "source": [
    "review_chain=LLMChain(llm=llm, prompt=quiz_evaluation_prompt, output_key=\"review\", verbose=True)"
   ]
  },
  {
   "cell_type": "code",
   "execution_count": 34,
   "metadata": {},
   "outputs": [],
   "source": [
    "generate_evaluate_chain=SequentialChain(chains=[quiz_chain, review_chain], input_variables=[\"text\", \"number\", \"subject\", \"tone\", \"RESPONSE_JSON\"],\n",
    "                                        output_variables=[\"quiz\", \"review\"], verbose=True)"
   ]
  },
  {
   "cell_type": "code",
   "execution_count": 19,
   "metadata": {},
   "outputs": [],
   "source": [
    "file_path= r\"C:\\Users\\misja\\OneDrive\\Desktop\\JAHNAVI\\GenAI\\MCQ_GenAI_Project\\MCQ-Generator-LLM\\data.txt\""
   ]
  },
  {
   "cell_type": "code",
   "execution_count": 20,
   "metadata": {},
   "outputs": [
    {
     "name": "stdout",
     "output_type": "stream",
     "text": [
      "C:\\Users\\misja\\OneDrive\\Desktop\\JAHNAVI\\GenAI\\MCQ_GenAI_Project\\MCQ-Generator-LLM\\data.txt\n"
     ]
    }
   ],
   "source": [
    "print(file_path)"
   ]
  },
  {
   "cell_type": "code",
   "execution_count": 21,
   "metadata": {},
   "outputs": [],
   "source": [
    "with open(file_path, 'r') as file:\n",
    "    TEXT = file.read()"
   ]
  },
  {
   "cell_type": "code",
   "execution_count": 22,
   "metadata": {},
   "outputs": [
    {
     "name": "stdout",
     "output_type": "stream",
     "text": [
      "In the realm of cutting-edge technologies, Artificial Intelligence (AI) has become a ubiquitous term. However, it encompasses various subfields that can sometimes be confusing. By understanding their unique characteristics and applications, we can gain a clearer perspective on the evolving landscape of AI.\n",
      "\n",
      "Let’s start with the word of the year: generative AI.\n",
      "\n",
      "Generative AI is an advanced branch of AI that utilizes machine learning techniques to generate new, original content such as images, text, audio, and video. Unlike traditional machine learning, which focuses on mapping input to output, generative models aim to produce novel and realistic outputs based on the patterns and information present in the training data. Maybe you’ve played with Dall-E or chat GPT 4, these are all examples of Generative AI.\n",
      "\n",
      "Machine Learning (ML):\n",
      "\n",
      "Machine learning is a subset of AI that focuses on the development of algorithms that enable systems to learn from and make predictions or decisions based on data. Unlike traditional AI, machine learning algorithms are designed to automatically learn and improve from experience without being explicitly programmed. They use statistical techniques to identify patterns, extract insights, and make informed predictions.\n",
      "\n",
      "Machine Learning works well for solving one problem at a time and then restarting the process, whereas generative AI can learn from itself and solve problems in succession.\n",
      "\n",
      "Artificial Intelligence (AI):\n",
      "\n",
      "Artificial Intelligence refers to creating intelligent machines that mimic human-like cognitive abilities. AI encompasses a range of techniques, algorithms, and methodologies aimed at enabling computers to perform tasks that typically require human intelligence. These tasks can include natural language processing, problem-solving, pattern recognition, planning, and decision-making.\n",
      "\n",
      "Editor’s note: We thought of cutting the following paragraph because it’s inaccurate. Traditional AI is not rules-based programming. However, we decided to leave it in, with this disclaimer, as an example of how GenAI cannot always be trusted to provide factual information, and how it can misinform or seemingly even hallucinate. This serves as a reminder that content you create using GenAI tools should continue to be reviewed and verified by subject-matter experts.\n",
      "\n",
      "AI techniques can be classified into two main categories: traditional AI and machine learning. Traditional AI employs rule-based programming and predefined sets of rules to solve problems. It involves explicitly defining rules and relationships between inputs and outputs. Traditional AI systems are often brittle and struggle with adapting to new or complex scenarios.\n",
      "\n",
      "Applications and synergies:\n",
      "\n",
      "AI, machine learning and generative AI find applications across various domains. AI techniques are employed in natural language processing, virtual assistants, robotics, autonomous vehicles and recommendation systems. Machine learning algorithms power personalized recommendations, fraud detection, medical diagnoses and speech recognition. Generative AI has gained prominence in areas such as image synthesis, text generation, summarization and video production.\n",
      "\n",
      "While machine learning is a subset of AI, generative AI is a subset of machine learning . Generative models leverage the power of machine learning to create new content that exhibits characteristics learned from the training data. The interplay between the three fields allows for advancements and innovations that propel AI forward.\n",
      "\n",
      "Conclusion:\n",
      "\n",
      "AI, machine learning and generative AI are distinct yet interconnected fields within the realm of AI. AI encompasses a broad range of techniques focused on creating intelligent systems, while machine learning specializes in developing algorithms that learn from data to make predictions or decisions, and Generative AI leverages machine learning to generate original and realistic content.\n",
      "\n",
      "Editor’s note: ChatGPT was used to create the majority of this content. Staff wrote or revised a few sentences for clarity and accuracy. Because generative AI cannot generate and share perspectives like humans can, this blog post doesn’t offer the specific views of any members of our leadership team, nor is there any exploration or interpretation of the significance and application of these technologies in relation to real-world scenarios. This experiment does, however, effectively explain the differences between AI, machine learning and generative AI as perceived by ChatGPT, and as verified by our subject-matter experts.\n"
     ]
    }
   ],
   "source": [
    "print(TEXT)"
   ]
  },
  {
   "cell_type": "code",
   "execution_count": 25,
   "metadata": {},
   "outputs": [],
   "source": [
    "TEXT\n",
    "NUMBER=5 \n",
    "SUBJECT=\"AI\"\n",
    "TONE=\"simple\"\n",
    "RESPONSE_JSON= RESPONSE_JSON"
   ]
  },
  {
   "cell_type": "code",
   "execution_count": 27,
   "metadata": {},
   "outputs": [
    {
     "data": {
      "text/plain": [
       "'{\"1\": {\"mcq\": \"multiple choice question\", \"options\": {\"a\": \"choice here\", \"b\": \"choice here\", \"c\": \"choice here\", \"d\": \"choice here\"}, \"correct\": \"correct answer\"}, \"2\": {\"mcq\": \"multiple choice question\", \"options\": {\"a\": \"choice here\", \"b\": \"choice here\", \"c\": \"choice here\", \"d\": \"choice here\"}, \"correct\": \"correct answer\"}, \"3\": {\"mcq\": \"multiple choice question\", \"options\": {\"a\": \"choice here\", \"b\": \"choice here\", \"c\": \"choice here\", \"d\": \"choice here\"}, \"correct\": \"correct answer\"}}'"
      ]
     },
     "execution_count": 27,
     "metadata": {},
     "output_type": "execute_result"
    }
   ],
   "source": [
    "json.dumps(RESPONSE_JSON)"
   ]
  },
  {
   "cell_type": "code",
   "execution_count": 35,
   "metadata": {},
   "outputs": [
    {
     "name": "stdout",
     "output_type": "stream",
     "text": [
      "\n",
      "\n",
      "\u001b[1m> Entering new SequentialChain chain...\u001b[0m\n",
      "\n",
      "\n",
      "\u001b[1m> Entering new LLMChain chain...\u001b[0m\n",
      "Prompt after formatting:\n",
      "\u001b[32;1m\u001b[1;3m\n",
      "Text:In the realm of cutting-edge technologies, Artificial Intelligence (AI) has become a ubiquitous term. However, it encompasses various subfields that can sometimes be confusing. By understanding their unique characteristics and applications, we can gain a clearer perspective on the evolving landscape of AI.\n",
      "\n",
      "Let’s start with the word of the year: generative AI.\n",
      "\n",
      "Generative AI is an advanced branch of AI that utilizes machine learning techniques to generate new, original content such as images, text, audio, and video. Unlike traditional machine learning, which focuses on mapping input to output, generative models aim to produce novel and realistic outputs based on the patterns and information present in the training data. Maybe you’ve played with Dall-E or chat GPT 4, these are all examples of Generative AI.\n",
      "\n",
      "Machine Learning (ML):\n",
      "\n",
      "Machine learning is a subset of AI that focuses on the development of algorithms that enable systems to learn from and make predictions or decisions based on data. Unlike traditional AI, machine learning algorithms are designed to automatically learn and improve from experience without being explicitly programmed. They use statistical techniques to identify patterns, extract insights, and make informed predictions.\n",
      "\n",
      "Machine Learning works well for solving one problem at a time and then restarting the process, whereas generative AI can learn from itself and solve problems in succession.\n",
      "\n",
      "Artificial Intelligence (AI):\n",
      "\n",
      "Artificial Intelligence refers to creating intelligent machines that mimic human-like cognitive abilities. AI encompasses a range of techniques, algorithms, and methodologies aimed at enabling computers to perform tasks that typically require human intelligence. These tasks can include natural language processing, problem-solving, pattern recognition, planning, and decision-making.\n",
      "\n",
      "Editor’s note: We thought of cutting the following paragraph because it’s inaccurate. Traditional AI is not rules-based programming. However, we decided to leave it in, with this disclaimer, as an example of how GenAI cannot always be trusted to provide factual information, and how it can misinform or seemingly even hallucinate. This serves as a reminder that content you create using GenAI tools should continue to be reviewed and verified by subject-matter experts.\n",
      "\n",
      "AI techniques can be classified into two main categories: traditional AI and machine learning. Traditional AI employs rule-based programming and predefined sets of rules to solve problems. It involves explicitly defining rules and relationships between inputs and outputs. Traditional AI systems are often brittle and struggle with adapting to new or complex scenarios.\n",
      "\n",
      "Applications and synergies:\n",
      "\n",
      "AI, machine learning and generative AI find applications across various domains. AI techniques are employed in natural language processing, virtual assistants, robotics, autonomous vehicles and recommendation systems. Machine learning algorithms power personalized recommendations, fraud detection, medical diagnoses and speech recognition. Generative AI has gained prominence in areas such as image synthesis, text generation, summarization and video production.\n",
      "\n",
      "While machine learning is a subset of AI, generative AI is a subset of machine learning . Generative models leverage the power of machine learning to create new content that exhibits characteristics learned from the training data. The interplay between the three fields allows for advancements and innovations that propel AI forward.\n",
      "\n",
      "Conclusion:\n",
      "\n",
      "AI, machine learning and generative AI are distinct yet interconnected fields within the realm of AI. AI encompasses a broad range of techniques focused on creating intelligent systems, while machine learning specializes in developing algorithms that learn from data to make predictions or decisions, and Generative AI leverages machine learning to generate original and realistic content.\n",
      "\n",
      "Editor’s note: ChatGPT was used to create the majority of this content. Staff wrote or revised a few sentences for clarity and accuracy. Because generative AI cannot generate and share perspectives like humans can, this blog post doesn’t offer the specific views of any members of our leadership team, nor is there any exploration or interpretation of the significance and application of these technologies in relation to real-world scenarios. This experiment does, however, effectively explain the differences between AI, machine learning and generative AI as perceived by ChatGPT, and as verified by our subject-matter experts.\n",
      "You are an expert MCQ maker. Given the above text, it is your job to create a quiz  of 5 multiple choice questions for AI students in simple tone. \n",
      "Make sure the questions are not repeated and check all the questions to be conforming the text as well.\n",
      "Make sure to format your response like  RESPONSE_JSON below  and use it as a guide. Ensure to make 5 MCQs\n",
      "\n",
      "{\"1\": {\"mcq\": \"multiple choice question\", \"options\": {\"a\": \"choice here\", \"b\": \"choice here\", \"c\": \"choice here\", \"d\": \"choice here\"}, \"correct\": \"correct answer\"}, \"2\": {\"mcq\": \"multiple choice question\", \"options\": {\"a\": \"choice here\", \"b\": \"choice here\", \"c\": \"choice here\", \"d\": \"choice here\"}, \"correct\": \"correct answer\"}, \"3\": {\"mcq\": \"multiple choice question\", \"options\": {\"a\": \"choice here\", \"b\": \"choice here\", \"c\": \"choice here\", \"d\": \"choice here\"}, \"correct\": \"correct answer\"}}\n",
      "\n",
      "\u001b[0m\n",
      "\n",
      "\u001b[1m> Finished chain.\u001b[0m\n",
      "\n",
      "\n",
      "\u001b[1m> Entering new LLMChain chain...\u001b[0m\n",
      "Prompt after formatting:\n",
      "\u001b[32;1m\u001b[1;3m\n",
      "Text:In the realm of cutting-edge technologies, Artificial Intelligence (AI) has become a ubiquitous term. However, it encompasses various subfields that can sometimes be confusing. By understanding their unique characteristics and applications, we can gain a clearer perspective on the evolving landscape of AI.\n",
      "\n",
      "Let’s start with the word of the year: generative AI.\n",
      "\n",
      "Generative AI is an advanced branch of AI that utilizes machine learning techniques to generate new, original content such as images, text, audio, and video. Unlike traditional machine learning, which focuses on mapping input to output, generative models aim to produce novel and realistic outputs based on the patterns and information present in the training data. Maybe you’ve played with Dall-E or chat GPT 4, these are all examples of Generative AI.\n",
      "\n",
      "Machine Learning (ML):\n",
      "\n",
      "Machine learning is a subset of AI that focuses on the development of algorithms that enable systems to learn from and make predictions or decisions based on data. Unlike traditional AI, machine learning algorithms are designed to automatically learn and improve from experience without being explicitly programmed. They use statistical techniques to identify patterns, extract insights, and make informed predictions.\n",
      "\n",
      "Machine Learning works well for solving one problem at a time and then restarting the process, whereas generative AI can learn from itself and solve problems in succession.\n",
      "\n",
      "Artificial Intelligence (AI):\n",
      "\n",
      "Artificial Intelligence refers to creating intelligent machines that mimic human-like cognitive abilities. AI encompasses a range of techniques, algorithms, and methodologies aimed at enabling computers to perform tasks that typically require human intelligence. These tasks can include natural language processing, problem-solving, pattern recognition, planning, and decision-making.\n",
      "\n",
      "Editor’s note: We thought of cutting the following paragraph because it’s inaccurate. Traditional AI is not rules-based programming. However, we decided to leave it in, with this disclaimer, as an example of how GenAI cannot always be trusted to provide factual information, and how it can misinform or seemingly even hallucinate. This serves as a reminder that content you create using GenAI tools should continue to be reviewed and verified by subject-matter experts.\n",
      "\n",
      "AI techniques can be classified into two main categories: traditional AI and machine learning. Traditional AI employs rule-based programming and predefined sets of rules to solve problems. It involves explicitly defining rules and relationships between inputs and outputs. Traditional AI systems are often brittle and struggle with adapting to new or complex scenarios.\n",
      "\n",
      "Applications and synergies:\n",
      "\n",
      "AI, machine learning and generative AI find applications across various domains. AI techniques are employed in natural language processing, virtual assistants, robotics, autonomous vehicles and recommendation systems. Machine learning algorithms power personalized recommendations, fraud detection, medical diagnoses and speech recognition. Generative AI has gained prominence in areas such as image synthesis, text generation, summarization and video production.\n",
      "\n",
      "While machine learning is a subset of AI, generative AI is a subset of machine learning . Generative models leverage the power of machine learning to create new content that exhibits characteristics learned from the training data. The interplay between the three fields allows for advancements and innovations that propel AI forward.\n",
      "\n",
      "Conclusion:\n",
      "\n",
      "AI, machine learning and generative AI are distinct yet interconnected fields within the realm of AI. AI encompasses a broad range of techniques focused on creating intelligent systems, while machine learning specializes in developing algorithms that learn from data to make predictions or decisions, and Generative AI leverages machine learning to generate original and realistic content.\n",
      "\n",
      "Editor’s note: ChatGPT was used to create the majority of this content. Staff wrote or revised a few sentences for clarity and accuracy. Because generative AI cannot generate and share perspectives like humans can, this blog post doesn’t offer the specific views of any members of our leadership team, nor is there any exploration or interpretation of the significance and application of these technologies in relation to real-world scenarios. This experiment does, however, effectively explain the differences between AI, machine learning and generative AI as perceived by ChatGPT, and as verified by our subject-matter experts.\n",
      "You are an expert MCQ maker. Given the above text, it is your job to create a quiz  of 5 multiple choice questions for AI students in simple tone. \n",
      "Make sure the questions are not repeated and check all the questions to be conforming the text as well.\n",
      "Make sure to format your response like  RESPONSE_JSON below  and use it as a guide. Ensure to make 5 MCQs\n",
      "### RESPONSE_JSON\n",
      "{\"1\": {\"mcq\": \"multiple choice question\", \"options\": {\"a\": \"choice here\", \"b\": \"choice here\", \"c\": \"choice here\", \"d\": \"choice here\"}, \"correct\": \"correct answer\"}, \"2\": {\"mcq\": \"multiple choice question\", \"options\": {\"a\": \"choice here\", \"b\": \"choice here\", \"c\": \"choice here\", \"d\": \"choice here\"}, \"correct\": \"correct answer\"}, \"3\": {\"mcq\": \"multiple choice question\", \"options\": {\"a\": \"choice here\", \"b\": \"choice here\", \"c\": \"choice here\", \"d\": \"choice here\"}, \"correct\": \"correct answer\"}}\n",
      "\n",
      "\u001b[0m\n",
      "\n",
      "\u001b[1m> Finished chain.\u001b[0m\n",
      "\n",
      "\u001b[1m> Finished chain.\u001b[0m\n",
      "Total tokens used: 655\n"
     ]
    }
   ],
   "source": [
    "class SimpleTokenCounter:\n",
    "    def __init__(self):\n",
    "        self.total_tokens = 0\n",
    "\n",
    "    def count_tokens(self, text):\n",
    "        self.total_tokens += len(text.split())\n",
    "\n",
    "    def get_total_tokens(self):\n",
    "        return self.total_tokens\n",
    "\n",
    "token_counter = SimpleTokenCounter()\n",
    "\n",
    "\n",
    "response=generate_evaluate_chain(\n",
    "        {\n",
    "            \"text\": TEXT,\n",
    "            \"number\": NUMBER,\n",
    "            \"subject\":SUBJECT,\n",
    "            \"tone\": TONE,\n",
    "            \"RESPONSE_JSON\": json.dumps(RESPONSE_JSON)\n",
    "        }\n",
    "        )\n",
    "\n",
    "token_counter.count_tokens(TEXT)\n",
    "print(f\"Total tokens used: {token_counter.get_total_tokens()}\")\n"
   ]
  },
  {
   "cell_type": "code",
   "execution_count": 36,
   "metadata": {},
   "outputs": [
    {
     "data": {
      "text/plain": [
       "{'text': 'In the realm of cutting-edge technologies, Artificial Intelligence (AI) has become a ubiquitous term. However, it encompasses various subfields that can sometimes be confusing. By understanding their unique characteristics and applications, we can gain a clearer perspective on the evolving landscape of AI.\\n\\nLet’s start with the word of the year: generative AI.\\n\\nGenerative AI is an advanced branch of AI that utilizes machine learning techniques to generate new, original content such as images, text, audio, and video. Unlike traditional machine learning, which focuses on mapping input to output, generative models aim to produce novel and realistic outputs based on the patterns and information present in the training data. Maybe you’ve played with Dall-E or chat GPT 4, these are all examples of Generative AI.\\n\\nMachine Learning (ML):\\n\\nMachine learning is a subset of AI that focuses on the development of algorithms that enable systems to learn from and make predictions or decisions based on data. Unlike traditional AI, machine learning algorithms are designed to automatically learn and improve from experience without being explicitly programmed. They use statistical techniques to identify patterns, extract insights, and make informed predictions.\\n\\nMachine Learning works well for solving one problem at a time and then restarting the process, whereas generative AI can learn from itself and solve problems in succession.\\n\\nArtificial Intelligence (AI):\\n\\nArtificial Intelligence refers to creating intelligent machines that mimic human-like cognitive abilities. AI encompasses a range of techniques, algorithms, and methodologies aimed at enabling computers to perform tasks that typically require human intelligence. These tasks can include natural language processing, problem-solving, pattern recognition, planning, and decision-making.\\n\\nEditor’s note: We thought of cutting the following paragraph because it’s inaccurate. Traditional AI is not rules-based programming. However, we decided to leave it in, with this disclaimer, as an example of how GenAI cannot always be trusted to provide factual information, and how it can misinform or seemingly even hallucinate. This serves as a reminder that content you create using GenAI tools should continue to be reviewed and verified by subject-matter experts.\\n\\nAI techniques can be classified into two main categories: traditional AI and machine learning. Traditional AI employs rule-based programming and predefined sets of rules to solve problems. It involves explicitly defining rules and relationships between inputs and outputs. Traditional AI systems are often brittle and struggle with adapting to new or complex scenarios.\\n\\nApplications and synergies:\\n\\nAI, machine learning and generative AI find applications across various domains. AI techniques are employed in natural language processing, virtual assistants, robotics, autonomous vehicles and recommendation systems. Machine learning algorithms power personalized recommendations, fraud detection, medical diagnoses and speech recognition. Generative AI has gained prominence in areas such as image synthesis, text generation, summarization and video production.\\n\\nWhile machine learning is a subset of AI, generative AI is a subset of machine learning . Generative models leverage the power of machine learning to create new content that exhibits characteristics learned from the training data. The interplay between the three fields allows for advancements and innovations that propel AI forward.\\n\\nConclusion:\\n\\nAI, machine learning and generative AI are distinct yet interconnected fields within the realm of AI. AI encompasses a broad range of techniques focused on creating intelligent systems, while machine learning specializes in developing algorithms that learn from data to make predictions or decisions, and Generative AI leverages machine learning to generate original and realistic content.\\n\\nEditor’s note: ChatGPT was used to create the majority of this content. Staff wrote or revised a few sentences for clarity and accuracy. Because generative AI cannot generate and share perspectives like humans can, this blog post doesn’t offer the specific views of any members of our leadership team, nor is there any exploration or interpretation of the significance and application of these technologies in relation to real-world scenarios. This experiment does, however, effectively explain the differences between AI, machine learning and generative AI as perceived by ChatGPT, and as verified by our subject-matter experts.',\n",
       " 'number': 5,\n",
       " 'subject': 'AI',\n",
       " 'tone': 'simple',\n",
       " 'RESPONSE_JSON': '{\"1\": {\"mcq\": \"multiple choice question\", \"options\": {\"a\": \"choice here\", \"b\": \"choice here\", \"c\": \"choice here\", \"d\": \"choice here\"}, \"correct\": \"correct answer\"}, \"2\": {\"mcq\": \"multiple choice question\", \"options\": {\"a\": \"choice here\", \"b\": \"choice here\", \"c\": \"choice here\", \"d\": \"choice here\"}, \"correct\": \"correct answer\"}, \"3\": {\"mcq\": \"multiple choice question\", \"options\": {\"a\": \"choice here\", \"b\": \"choice here\", \"c\": \"choice here\", \"d\": \"choice here\"}, \"correct\": \"correct answer\"}}',\n",
       " 'quiz': '{\\n    \"1\": {\\n        \"mcq\": \"What is the main focus of generative AI?\",\\n        \"options\": {\\n            \"a\": \"Mapping input to output\",\\n            \"b\": \"Generating new content\",\\n            \"c\": \"Learning from experience\",\\n            \"d\": \"Creating intelligent machines\"\\n        },\\n        \"correct\": \"b\"\\n    },\\n    \"2\": {\\n        \"mcq\": \"Which field of AI specializes in developing algorithms that learn from data to make predictions or decisions?\",\\n        \"options\": {\\n            \"a\": \"Artificial Intelligence\",\\n            \"b\": \"Machine Learning\",\\n            \"c\": \"Generative AI\",\\n            \"d\": \"Robotics\"\\n        },\\n        \"correct\": \"b\"\\n    },\\n    \"3\": {\\n        \"mcq\": \"What distinguishes generative AI from traditional machine learning?\",\\n        \"options\": {\\n            \"a\": \"It focuses on rule-based programming\",\\n            \"b\": \"It generates novel and realistic content\",\\n            \"c\": \"It mimics human-like cognitive abilities\",\\n            \"d\": \"It powers personalized recommendations\"\\n        },\\n        \"correct\": \"b\"\\n    },\\n    \"4\": {\\n        \"mcq\": \"Which field of AI involves explicitly defining rules and relationships between inputs and outputs?\",\\n        \"options\": {\\n            \"a\": \"Machine Learning\",\\n            \"b\": \"Generative AI\",\\n            \"c\": \"Artificial Intelligence\",\\n            \"d\": \"Robotics\"\\n        },\\n        \"correct\": \"c\"\\n    },\\n    \"5\": {\\n        \"mcq\": \"What is the primary application of machine learning algorithms?\",\\n        \"options\": {\\n            \"a\": \"Image synthesis\",\\n            \"b\": \"Text generation\",\\n            \"c\": \"Personalized recommendations\",\\n            \"d\": \"Summarization\"\\n        },\\n        \"correct\": \"c\"\\n    }\\n}',\n",
       " 'review': '\\n{\\n    \"1\": {\\n        \"mcq\": \"What is the main focus of generative AI?\",\\n        \"options\": {\\n            \"a\": \"Mapping input to output\",\\n            \"b\": \"Generating new and original content\",\\n            \"c\": \"Making predictions based on data\",\\n            \"d\": \"Improving from experience\"\\n        },\\n        \"correct\": \"b\"\\n    },\\n    \"2\": {\\n        \"mcq\": \"Which branch of AI specializes in developing algorithms that learn from data?\",\\n        \"options\": {\\n            \"a\": \"Generative AI\",\\n            \"b\": \"Machine Learning\",\\n            \"c\": \"Artificial Intelligence\",\\n            \"d\": \"Traditional AI\"\\n        },\\n        \"correct\": \"b\"\\n    },\\n    \"3\": {\\n        \"mcq\": \"What do machine learning algorithms use to identify patterns and make predictions?\",\\n        \"options\": {\\n            \"a\": \"Statistical techniques\",\\n            \"b\": \"Predefined rules\",\\n            \"c\": \"Human intelligence\",\\n            \"d\": \"Training data\"\\n        },\\n        \"correct\": \"a\"\\n    },\\n    \"4\": {\\n        \"mcq\": \"Which field of AI involves creating intelligent machines that mimic human-like cognitive abilities?\",\\n        \"options\": {\\n            \"a\": \"Generative AI\",\\n            \"b\": \"Machine Learning\",\\n            \"c\": \"Artificial Intelligence\",\\n            \"d\": \"Traditional AI\"\\n        },\\n        \"correct\": \"c\"\\n    },\\n    \"5\": {\\n        \"mcq\": \"What is one of the applications of generative AI?\",\\n        \"options\": {\\n            \"a\": \"Fraud detection\",\\n            \"b\": \"Image synthesis\",\\n            \"c\": \"Medical diagnoses\",\\n            \"d\": \"Natural language processing\"\\n        },\\n        \"correct\": \"b\"\\n    }\\n}'}"
      ]
     },
     "execution_count": 36,
     "metadata": {},
     "output_type": "execute_result"
    }
   ],
   "source": [
    "response"
   ]
  },
  {
   "cell_type": "code",
   "execution_count": 37,
   "metadata": {},
   "outputs": [],
   "source": [
    "quiz=response.get(\"quiz\")"
   ]
  },
  {
   "cell_type": "code",
   "execution_count": 41,
   "metadata": {},
   "outputs": [],
   "source": [
    "quiz= json.loads(quiz)"
   ]
  },
  {
   "cell_type": "code",
   "execution_count": 42,
   "metadata": {},
   "outputs": [],
   "source": [
    "quiz_table_data = []\n",
    "for key, value in quiz.items():\n",
    "    mcq = value[\"mcq\"]\n",
    "    options = \" | \".join(\n",
    "        [\n",
    "            f\"{option}: {option_value}\"\n",
    "            for option, option_value in value[\"options\"].items()\n",
    "            ]\n",
    "        )\n",
    "    correct = value[\"correct\"]\n",
    "    quiz_table_data.append({\"MCQ\": mcq, \"Choices\": options, \"Correct\": correct})"
   ]
  },
  {
   "cell_type": "code",
   "execution_count": 45,
   "metadata": {},
   "outputs": [
    {
     "data": {
      "text/plain": [
       "[{'MCQ': 'What is the main focus of generative AI?',\n",
       "  'Choices': 'a: Mapping input to output | b: Generating new content | c: Learning from experience | d: Creating intelligent machines',\n",
       "  'Correct': 'b'},\n",
       " {'MCQ': 'Which field of AI specializes in developing algorithms that learn from data to make predictions or decisions?',\n",
       "  'Choices': 'a: Artificial Intelligence | b: Machine Learning | c: Generative AI | d: Robotics',\n",
       "  'Correct': 'b'},\n",
       " {'MCQ': 'What distinguishes generative AI from traditional machine learning?',\n",
       "  'Choices': 'a: It focuses on rule-based programming | b: It generates novel and realistic content | c: It mimics human-like cognitive abilities | d: It powers personalized recommendations',\n",
       "  'Correct': 'b'},\n",
       " {'MCQ': 'Which field of AI involves explicitly defining rules and relationships between inputs and outputs?',\n",
       "  'Choices': 'a: Machine Learning | b: Generative AI | c: Artificial Intelligence | d: Robotics',\n",
       "  'Correct': 'c'},\n",
       " {'MCQ': 'What is the primary application of machine learning algorithms?',\n",
       "  'Choices': 'a: Image synthesis | b: Text generation | c: Personalized recommendations | d: Summarization',\n",
       "  'Correct': 'c'}]"
      ]
     },
     "execution_count": 45,
     "metadata": {},
     "output_type": "execute_result"
    }
   ],
   "source": [
    "quiz_table_data"
   ]
  },
  {
   "cell_type": "code",
   "execution_count": 46,
   "metadata": {},
   "outputs": [],
   "source": [
    "quiz=pd.DataFrame(quiz_table_data)"
   ]
  },
  {
   "cell_type": "code",
   "execution_count": 47,
   "metadata": {},
   "outputs": [
    {
     "data": {
      "text/html": [
       "<div>\n",
       "<style scoped>\n",
       "    .dataframe tbody tr th:only-of-type {\n",
       "        vertical-align: middle;\n",
       "    }\n",
       "\n",
       "    .dataframe tbody tr th {\n",
       "        vertical-align: top;\n",
       "    }\n",
       "\n",
       "    .dataframe thead th {\n",
       "        text-align: right;\n",
       "    }\n",
       "</style>\n",
       "<table border=\"1\" class=\"dataframe\">\n",
       "  <thead>\n",
       "    <tr style=\"text-align: right;\">\n",
       "      <th></th>\n",
       "      <th>MCQ</th>\n",
       "      <th>Choices</th>\n",
       "      <th>Correct</th>\n",
       "    </tr>\n",
       "  </thead>\n",
       "  <tbody>\n",
       "    <tr>\n",
       "      <th>0</th>\n",
       "      <td>What is the main focus of generative AI?</td>\n",
       "      <td>a: Mapping input to output | b: Generating new...</td>\n",
       "      <td>b</td>\n",
       "    </tr>\n",
       "    <tr>\n",
       "      <th>1</th>\n",
       "      <td>Which field of AI specializes in developing al...</td>\n",
       "      <td>a: Artificial Intelligence | b: Machine Learni...</td>\n",
       "      <td>b</td>\n",
       "    </tr>\n",
       "    <tr>\n",
       "      <th>2</th>\n",
       "      <td>What distinguishes generative AI from traditio...</td>\n",
       "      <td>a: It focuses on rule-based programming | b: I...</td>\n",
       "      <td>b</td>\n",
       "    </tr>\n",
       "    <tr>\n",
       "      <th>3</th>\n",
       "      <td>Which field of AI involves explicitly defining...</td>\n",
       "      <td>a: Machine Learning | b: Generative AI | c: Ar...</td>\n",
       "      <td>c</td>\n",
       "    </tr>\n",
       "    <tr>\n",
       "      <th>4</th>\n",
       "      <td>What is the primary application of machine lea...</td>\n",
       "      <td>a: Image synthesis | b: Text generation | c: P...</td>\n",
       "      <td>c</td>\n",
       "    </tr>\n",
       "  </tbody>\n",
       "</table>\n",
       "</div>"
      ],
      "text/plain": [
       "                                                 MCQ  \\\n",
       "0           What is the main focus of generative AI?   \n",
       "1  Which field of AI specializes in developing al...   \n",
       "2  What distinguishes generative AI from traditio...   \n",
       "3  Which field of AI involves explicitly defining...   \n",
       "4  What is the primary application of machine lea...   \n",
       "\n",
       "                                             Choices Correct  \n",
       "0  a: Mapping input to output | b: Generating new...       b  \n",
       "1  a: Artificial Intelligence | b: Machine Learni...       b  \n",
       "2  a: It focuses on rule-based programming | b: I...       b  \n",
       "3  a: Machine Learning | b: Generative AI | c: Ar...       c  \n",
       "4  a: Image synthesis | b: Text generation | c: P...       c  "
      ]
     },
     "execution_count": 47,
     "metadata": {},
     "output_type": "execute_result"
    }
   ],
   "source": [
    "quiz"
   ]
  },
  {
   "cell_type": "code",
   "execution_count": 48,
   "metadata": {},
   "outputs": [],
   "source": [
    "quiz.to_csv(\"ai_quiz.csv\",index=False)"
   ]
  },
  {
   "cell_type": "code",
   "execution_count": 50,
   "metadata": {},
   "outputs": [],
   "source": [
    "from datetime import datetime\n",
    "\n",
    "LOG_FILE=f\"{datetime.now().strftime('%m_%d_%Y_%H_%M_%S')}.log\""
   ]
  },
  {
   "cell_type": "code",
   "execution_count": 51,
   "metadata": {},
   "outputs": [
    {
     "data": {
      "text/plain": [
       "'08_29_2024_04_58_19'"
      ]
     },
     "execution_count": 51,
     "metadata": {},
     "output_type": "execute_result"
    }
   ],
   "source": [
    "datetime.now().strftime('%m_%d_%Y_%H_%M_%S')"
   ]
  }
 ],
 "metadata": {
  "kernelspec": {
   "display_name": "env",
   "language": "python",
   "name": "python3"
  },
  "language_info": {
   "codemirror_mode": {
    "name": "ipython",
    "version": 3
   },
   "file_extension": ".py",
   "mimetype": "text/x-python",
   "name": "python",
   "nbconvert_exporter": "python",
   "pygments_lexer": "ipython3",
   "version": "3.8.19"
  }
 },
 "nbformat": 4,
 "nbformat_minor": 2
}
